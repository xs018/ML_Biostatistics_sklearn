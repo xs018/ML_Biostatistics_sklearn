{
 "cells": [
  {
   "cell_type": "code",
   "execution_count": 9,
   "id": "6f75fdc6",
   "metadata": {},
   "outputs": [],
   "source": [
    "from sklearn.neural_network import MLPRegressor\n",
    "from sklearn.model_selection import train_test_split\n",
    "from sklearn.preprocessing import StandardScaler\n",
    "from deap import base, creator, tools, algorithms\n",
    "import random\n",
    "import pandas as pd\n",
    "import numpy as np\n",
    "from sklearn.model_selection import GridSearchCV\n",
    "from sklearn.metrics import mean_squared_error, r2_score\n",
    "from sklearn.preprocessing import StandardScaler\n",
    "from sklearn.inspection import partial_dependence, PartialDependenceDisplay\n",
    "from sklearn.impute import SimpleImputer"
   ]
  },
  {
   "cell_type": "code",
   "execution_count": 2,
   "id": "103ccf07",
   "metadata": {},
   "outputs": [],
   "source": [
    "# Assuming X_train, X_test, y_train, y_test are defined and available\n",
    "file_path = 'ML_photocatalysis2.xlsx'\n",
    "\n",
    "# Read the Excel file\n",
    "data = pd.read_excel(file_path, header=0)\n",
    "\n",
    "# Assuming 'df' is your pandas DataFrame.\n",
    "df = data.sample(frac=1, random_state=38).reset_index(drop=True)\n",
    "\n",
    "# Separate the features and the target variable\n",
    "X = df[['Ni to TiO2 ratio', 'gC3N4 to TiO2 ratio', 'dosage', 'Time']]\n",
    "y = df['SA removal rate']\n",
    "\n",
    "# Split the data into training, validation, and test sets\n",
    "X_train, X_test, y_train, y_test = train_test_split(X, y, test_size=0.2, random_state=42)\n",
    "# Scaling the data\n",
    "scaler = StandardScaler()\n",
    "X_train_scaled = scaler.fit_transform(X_train)\n",
    "X_test_scaled = scaler.transform(X_test)"
   ]
  },
  {
   "cell_type": "code",
   "execution_count": 3,
   "id": "91b66d00",
   "metadata": {},
   "outputs": [
    {
     "name": "stdout",
     "output_type": "stream",
     "text": [
      "Fitting 5 folds for each of 108 candidates, totalling 540 fits\n",
      "Best model parameters: {'alpha': 0.001, 'hidden_layer_sizes': (50, 50), 'learning_rate_init': 0.01, 'max_iter': 1000, 'solver': 'adam'}\n",
      "MSE_test: 0.0012766163811221791, R2_test: 0.9776072845197046, Adjust_R2_test: 0.9741622513688899\n",
      "MSE_train: 0.001733954896552702, R2_train: 0.9653365043539711, Adjust_R2_train: 0.9641514275797479\n"
     ]
    }
   ],
   "source": [
    "\n",
    "# Define the parameter grid to search\n",
    "param_grid = {\n",
    "    'hidden_layer_sizes': [(50,), (100,), (50, 50), (100, 100), (50, 100, 50), (100, 50, 100)],\n",
    "    'solver': ['adam'],\n",
    "    'alpha': [0.0001, 0.001],\n",
    "    'learning_rate_init': [0.0001, 0.001, 0.01],\n",
    "    'max_iter': [1000, 2000, 3000],\n",
    "}\n",
    "\n",
    "# Initialize the MLPRegressor model\n",
    "regr = MLPRegressor(random_state=42, max_iter=10000)\n",
    "# regr = MLPRegressor(random_state=42, max_iter=10000, activation='logistic')\n",
    "activation='tanh'\n",
    "# Initialize the Grid Search model\n",
    "grid_search = GridSearchCV(regr, param_grid, cv=5, scoring='neg_mean_squared_error', verbose=2, n_jobs=-1)\n",
    "\n",
    "# Fit the model\n",
    "grid_search.fit(X_train_scaled, y_train)\n",
    "\n",
    "# Best model\n",
    "best_model_MLP = grid_search.best_estimator_\n",
    "\n",
    "# Predictions\n",
    "y_pred_test = best_model_MLP.predict(X_test_scaled)\n",
    "y_pred_train = best_model_MLP.predict(X_train_scaled)\n",
    "\n",
    "# Evaluate the model\n",
    "n_test = X_test_scaled.shape[0]  # Number of observations\n",
    "p_test = X_test_scaled.shape[1]  # Number of predictors\n",
    "test_mse = mean_squared_error(y_test, y_pred_test)\n",
    "test_r2 = r2_score(y_test, y_pred_test)\n",
    "test_adjusted_r_squared = 1 - (1 - test_r2) * (n_test - 1) / (n_test - p_test - 1)\n",
    "\n",
    "n_train = X_train_scaled.shape[0]  # Number of observations\n",
    "p_train = X_train_scaled.shape[1]  # Number of predictors\n",
    "train_mse = mean_squared_error(y_train, y_pred_train)\n",
    "train_r2 = r2_score(y_train, y_pred_train)\n",
    "train_adjusted_r_squared = 1 - (1 - train_r2) * (n_train - 1) / (n_train - p_train - 1)\n",
    "\n",
    "print(f'Best model parameters: {grid_search.best_params_}')\n",
    "print(f'MSE_test: {test_mse}, R2_test: {test_r2}, Adjust_R2_test: {test_adjusted_r_squared}')\n",
    "print(f'MSE_train: {train_mse}, R2_train: {train_r2}, Adjust_R2_train: {train_adjusted_r_squared}')\n",
    "\n",
    "# Note: BIC calculation is omitted as it requires a specific function `calculate_log_likelihood_from_mse` and `em.bic`\n",
    "# which are not standard in sklearn and need to be defined.\n"
   ]
  },
  {
   "cell_type": "code",
   "execution_count": 10,
   "id": "16649995",
   "metadata": {},
   "outputs": [],
   "source": [
    "def get_some_data():\n",
    "    cols_to_use = ['Ni to TiO2 ratio', 'gC3N4 to TiO2 ratio', 'dosage', 'Time']\n",
    "    my_imputer = SimpleImputer(strategy=\"mean\")\n",
    "    imputed_X = my_imputer.fit_transform(X)\n",
    "    return imputed_X, y"
   ]
  },
  {
   "cell_type": "code",
   "execution_count": 17,
   "id": "7a1ca49c",
   "metadata": {
    "collapsed": true
   },
   "outputs": [],
   "source": [
    "# get_some_data is defined in hidden cell above.\n",
    "X, y = get_some_data()\n",
    "# scikit-learn originally implemented partial dependence plots only for Gradient Boosting models\n",
    "# this was due to an implementation detail, and a future release will support all model types.\n",
    "my_model = best_model_MLP\n",
    "# fit the model as usual\n",
    "my_model.fit(X, y)\n",
    "# Here we make the plot\n",
    "my_plots = partial_dependence(my_model,       \n",
    "                                   features=[0,1,2,3], # column numbers of plots we want to show\n",
    "                                   X=X,            # raw predictors data.\n",
    "                                   feature_names=['Ni to TiO2 ratio', 'gC3N4 to TiO2 ratio', 'dosage', 'Time'], # labels on graphs\n",
    "                                   grid_resolution=10) # number of values to plot on x axis"
   ]
  },
  {
   "cell_type": "code",
   "execution_count": 16,
   "id": "6076f713",
   "metadata": {},
   "outputs": [
    {
     "data": {
      "image/png": "[encoded data removed]",
      "text/plain": [
       "<Figure size 432x288 with 5 Axes>"
      ]
     },
     "metadata": {
      "needs_background": "light"
     },
     "output_type": "display_data"
    }
   ],
   "source": [
    "import matplotlib.pyplot as plt\n",
    "from sklearn.inspection import PartialDependenceDisplay\n",
    "\n",
    "%matplotlib inline\n",
    "\n",
    "# Plotting partial dependence plots\n",
    "features = [0, 1, 2, 3]  # column numbers of plots we want to show\n",
    "feature_names = ['Ni to TiO2 ratio', 'gC3N4 to TiO2 ratio', 'dosage', 'Time']\n",
    "display = PartialDependenceDisplay.from_estimator(\n",
    "    my_model,\n",
    "    X,\n",
    "    features=features,\n",
    "    feature_names=feature_names,\n",
    "    grid_resolution=10\n",
    ")\n",
    "\n",
    "# Show the plot\n",
    "plt.show()\n"
   ]
  },
  {
   "cell_type": "code",
   "execution_count": null,
   "id": "a2bc1f3a",
   "metadata": {},
   "outputs": [],
   "source": []
  }
 ],
 "metadata": {
  "kernelspec": {
   "display_name": "Python 3",
   "language": "python",
   "name": "python3"
  },
  "language_info": {
   "codemirror_mode": {
    "name": "ipython",
    "version": 3
   },
   "file_extension": ".py",
   "mimetype": "text/x-python",
   "name": "python",
   "nbconvert_exporter": "python",
   "pygments_lexer": "ipython3",
   "version": "3.8.8"
  }
 },
 "nbformat": 4,
 "nbformat_minor": 5
}
